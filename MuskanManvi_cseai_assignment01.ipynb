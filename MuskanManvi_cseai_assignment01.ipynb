{
  "nbformat": 4,
  "nbformat_minor": 0,
  "metadata": {
    "colab": {
      "provenance": [],
      "include_colab_link": true
    },
    "kernelspec": {
      "name": "python3",
      "display_name": "Python 3"
    },
    "language_info": {
      "name": "python"
    }
  },
  "cells": [
    {
      "cell_type": "markdown",
      "metadata": {
        "id": "view-in-github",
        "colab_type": "text"
      },
      "source": [
        "<a href=\"https://colab.research.google.com/github/muskanmanvi110/EDA/blob/main/MuskanManvi_cseai_assignment01.ipynb\" target=\"_parent\"><img src=\"https://colab.research.google.com/assets/colab-badge.svg\" alt=\"Open In Colab\"/></a>"
      ]
    },
    {
      "cell_type": "markdown",
      "source": [
        "#EDA"
      ],
      "metadata": {
        "id": "67ZNXN8OF79T"
      }
    },
    {
      "cell_type": "markdown",
      "source": [
        "Hi everyone, This is your first assignment for week 1...\n",
        "So in this assignment you have to perform EDA on the below dataset.\n",
        "The problem statements are given below.\n",
        "Just write a code for them..."
      ],
      "metadata": {
        "id": "IIfMYAslGDhk"
      }
    },
    {
      "cell_type": "code",
      "execution_count": null,
      "metadata": {
        "colab": {
          "base_uri": "https://localhost:8080/"
        },
        "id": "MC89QfHwiMFp",
        "outputId": "15697389-8f73-4c01-bcea-b42aed778613"
      },
      "outputs": [
        {
          "output_type": "stream",
          "name": "stdout",
          "text": [
            "--2023-09-09 13:43:50--  https://www.kaggle.com/datasets/aestheteaman01/zomato-restaurants-in-delhi-ncr\n",
            "Resolving www.kaggle.com (www.kaggle.com)... 35.244.233.98\n",
            "Connecting to www.kaggle.com (www.kaggle.com)|35.244.233.98|:443... connected.\n",
            "HTTP request sent, awaiting response... 200 OK\n",
            "Length: unspecified [text/html]\n",
            "Saving to: ‘zomato-restaurants-in-delhi-ncr’\n",
            "\n",
            "zomato-restaurants-     [ <=>                ]  15.94K  --.-KB/s    in 0.001s  \n",
            "\n",
            "2023-09-09 13:43:50 (23.8 MB/s) - ‘zomato-restaurants-in-delhi-ncr’ saved [16322]\n",
            "\n"
          ]
        }
      ],
      "source": [
        "!wget https://www.kaggle.com/datasets/aestheteaman01/zomato-restaurants-in-delhi-ncr\n"
      ]
    },
    {
      "cell_type": "markdown",
      "source": [
        "# New Section"
      ],
      "metadata": {
        "id": "Uu1DHhy6N37b"
      }
    },
    {
      "cell_type": "code",
      "source": [
        "import pandas as pd\n",
        "import numpy as np\n",
        "import matplotlib.pyplot as plt\n",
        "import seaborn as sns"
      ],
      "metadata": {
        "id": "h5uuaAlTPETJ"
      },
      "execution_count": 25,
      "outputs": []
    },
    {
      "cell_type": "code",
      "source": [
        "zomato=pd.read_csv(\"DelhiNCR Restaurants.csv\")"
      ],
      "metadata": {
        "id": "0M0nLzzqRopZ"
      },
      "execution_count": 10,
      "outputs": []
    },
    {
      "cell_type": "code",
      "source": [
        "zomato"
      ],
      "metadata": {
        "colab": {
          "base_uri": "https://localhost:8080/",
          "height": 1000
        },
        "id": "k3-hNnGbR4Jc",
        "outputId": "2bdec27d-bf53-4cdc-d9ec-a224dcdefc13"
      },
      "execution_count": null,
      "outputs": [
        {
          "output_type": "execute_result",
          "data": {
            "text/plain": [
              "             Restaurant_Name  \\\n",
              "0                   Rustom's   \n",
              "1                  Cafe Lota   \n",
              "2     Dum-Pukht - ITC Maurya   \n",
              "3                Burma Burma   \n",
              "4              The Big Chill   \n",
              "...                      ...   \n",
              "1960          Bablu Chic-Inn   \n",
              "1961               Kovilakam   \n",
              "1962        Krips Restaurant   \n",
              "1963                Cafe 147   \n",
              "1964                Pizzasia   \n",
              "\n",
              "                                               Category  Pricing_for_2  \\\n",
              "0     Parsi, Street Food, North Indian, Desserts, Be...           2100   \n",
              "1           Cafe, South Indian, North Indian, Beverages           1200   \n",
              "2                       Mughlai, North Indian, Desserts           5000   \n",
              "3           Asian, Burmese, Bubble Tea, Desserts, Salad           1600   \n",
              "4                        Continental, American, Italian           1500   \n",
              "...                                                 ...            ...   \n",
              "1960          Mughlai, North Indian, Chinese, Fast Food            500   \n",
              "1961                                       South Indian            350   \n",
              "1962                     North Indian, Chinese, Mughlai            900   \n",
              "1963  Cafe, North Indian, Chinese, Kashmiri, Rolls, ...            800   \n",
              "1964                        Pizza, Fast Food, Beverages            500   \n",
              "\n",
              "                                         Locality  Dining_Rating  \\\n",
              "0                                  ITO, New Delhi            4.9   \n",
              "1                       Pragati Maidan, New Delhi            4.9   \n",
              "2             ITC Maurya, Chanakyapuri, New Delhi            4.9   \n",
              "3              Cyber Hub, DLF Cyber City, Gurgaon            4.9   \n",
              "4                          Khan Market, New Delhi            4.9   \n",
              "...                                           ...            ...   \n",
              "1960               Ashok Vihar Phase 3, New Delhi            3.9   \n",
              "1961                    Dilshad Garden, New Delhi            3.9   \n",
              "1962   Basant Lok Market, Vasant Vihar, New Delhi            3.9   \n",
              "1963                      Sainik Farms, New Delhi            3.9   \n",
              "1964                   Gaur City 2, Greater Noida            3.9   \n",
              "\n",
              "      Dining_Review_Count  Delivery_Rating  Delivery_Rating_Count  \\\n",
              "0                    1885              4.4                   1844   \n",
              "1                    3748              3.9                     37   \n",
              "2                    1371              NaN                      0   \n",
              "3                    2636              4.4                   1238   \n",
              "4                    6487              NaN                      0   \n",
              "...                   ...              ...                    ...   \n",
              "1960                  183              4.1                    545   \n",
              "1961                  114              NaN                      1   \n",
              "1962                  316              3.9                   2977   \n",
              "1963                  120              3.8                    196   \n",
              "1964                  165              3.9                   5196   \n",
              "\n",
              "                                                Website  \\\n",
              "0      https://www.zomato.com/ncr/rustoms-ito-new-delhi   \n",
              "1     https://www.zomato.com/ncr/cafe-lota-pragati-m...   \n",
              "2     https://www.zomato.com/ncr/dum-pukht-itc-maury...   \n",
              "3     https://www.zomato.com/ncr/burma-burma-dlf-cyb...   \n",
              "4     https://www.zomato.com/ncr/the-big-chill-khan-...   \n",
              "...                                                 ...   \n",
              "1960  https://www.zomato.com/ncr/bablu-chic-inn-asho...   \n",
              "1961  https://www.zomato.com/ncr/kovilakam-dilshad-g...   \n",
              "1962  https://www.zomato.com/ncr/krips-restaurant-va...   \n",
              "1963  https://www.zomato.com/ncr/cafe-147-sainik-far...   \n",
              "1964  https://www.zomato.com/ncr/pizzasia-gaur-city-...   \n",
              "\n",
              "                                                Address     Phone_No  \\\n",
              "0     Delhi Parsi Anjuman, LNJP Colony, Bahadur Shah...   9.1991E+11   \n",
              "1     National Crafts Museum, Gate 2, Bhairon Marg, ...  9.17839E+11   \n",
              "2                   ITC Maurya, Chanakyapuri, New Delhi  9.11146E+11   \n",
              "3     Shop 6, Ground Floor, Building 8, Tower C, Cyb...  9.11244E+11   \n",
              "4                          68-A, Khan Market, New Delhi  9.11142E+11   \n",
              "...                                                 ...          ...   \n",
              "1960  Shop 9, Pocket B, DDA Market, Ashok Vihar Phas...      9.2E+11   \n",
              "1961  F-1, Lower Ground 2, Mrignaini Chowk, Dilshad ...  9.19654E+11   \n",
              "1962  59, Community Centre, Basant Lok Market, Vasan...  9.11141E+11   \n",
              "1963  Shop A1/7, Ground Floor, Main IGNOU Road, Neb ...  9.19812E+11   \n",
              "1964  Shop 14, Ground Floor, Bhawishya India Tower, ...  9.18861E+11   \n",
              "\n",
              "       Latitude  Longitude                                         Known_For2  \\\n",
              "0     28.638167  77.240472                                                NaN   \n",
              "1     28.613429  77.242471  Pondicherry Fish Curry, Coconut Rabdi, Sabudan...   \n",
              "2     28.598200  77.173661  Royal ambiance and Mughlai cuisine, also recei...   \n",
              "3     28.494464  77.088532  Coconut Milk Dessert, Honey Caviar, Kaffir Lim...   \n",
              "4     28.600350  77.227493  Irish Cream Tiramisu, Penne Vodka, Mississippi...   \n",
              "...         ...        ...                                                ...   \n",
              "1960  28.692473  77.178004  Great Recommendations, Tamper Proof Packaging,...   \n",
              "1961  28.684101  77.326725  Kerala Parotta, Roasted Chicken, Chicken Curry...   \n",
              "1962  28.557310  77.163943  Excellent Food, Good Ambience, Courteous Staff...   \n",
              "1963  28.510338  77.202056  Pool, Live Music, Cafe, Environment, Good Plac...   \n",
              "1964  28.618250  77.427417  Cordial Staff, Great Recommendations, Mouth Wa...   \n",
              "\n",
              "                                            Known_For22  \n",
              "0                                                   NaN  \n",
              "1     Artistic Decor, The Service, Natural Ambience,...  \n",
              "2                                                   NaN  \n",
              "3     Knowledgeable Staff, Authentic, Soothing Ambie...  \n",
              "4     Retro Ambience, Yummy Desserts, Big Portions, ...  \n",
              "...                                                 ...  \n",
              "1960                                                NaN  \n",
              "1961  Lip Smacking Food, Amazing Food, Owner, Good P...  \n",
              "1962                                                NaN  \n",
              "1963                                                NaN  \n",
              "1964                                                NaN  \n",
              "\n",
              "[1965 rows x 15 columns]"
            ],
            "text/html": [
              "\n",
              "  <div id=\"df-f33f05de-ae81-40b6-9805-828ade8c8447\" class=\"colab-df-container\">\n",
              "    <div>\n",
              "<style scoped>\n",
              "    .dataframe tbody tr th:only-of-type {\n",
              "        vertical-align: middle;\n",
              "    }\n",
              "\n",
              "    .dataframe tbody tr th {\n",
              "        vertical-align: top;\n",
              "    }\n",
              "\n",
              "    .dataframe thead th {\n",
              "        text-align: right;\n",
              "    }\n",
              "</style>\n",
              "<table border=\"1\" class=\"dataframe\">\n",
              "  <thead>\n",
              "    <tr style=\"text-align: right;\">\n",
              "      <th></th>\n",
              "      <th>Restaurant_Name</th>\n",
              "      <th>Category</th>\n",
              "      <th>Pricing_for_2</th>\n",
              "      <th>Locality</th>\n",
              "      <th>Dining_Rating</th>\n",
              "      <th>Dining_Review_Count</th>\n",
              "      <th>Delivery_Rating</th>\n",
              "      <th>Delivery_Rating_Count</th>\n",
              "      <th>Website</th>\n",
              "      <th>Address</th>\n",
              "      <th>Phone_No</th>\n",
              "      <th>Latitude</th>\n",
              "      <th>Longitude</th>\n",
              "      <th>Known_For2</th>\n",
              "      <th>Known_For22</th>\n",
              "    </tr>\n",
              "  </thead>\n",
              "  <tbody>\n",
              "    <tr>\n",
              "      <th>0</th>\n",
              "      <td>Rustom's</td>\n",
              "      <td>Parsi, Street Food, North Indian, Desserts, Be...</td>\n",
              "      <td>2100</td>\n",
              "      <td>ITO, New Delhi</td>\n",
              "      <td>4.9</td>\n",
              "      <td>1885</td>\n",
              "      <td>4.4</td>\n",
              "      <td>1844</td>\n",
              "      <td>https://www.zomato.com/ncr/rustoms-ito-new-delhi</td>\n",
              "      <td>Delhi Parsi Anjuman, LNJP Colony, Bahadur Shah...</td>\n",
              "      <td>9.1991E+11</td>\n",
              "      <td>28.638167</td>\n",
              "      <td>77.240472</td>\n",
              "      <td>NaN</td>\n",
              "      <td>NaN</td>\n",
              "    </tr>\n",
              "    <tr>\n",
              "      <th>1</th>\n",
              "      <td>Cafe Lota</td>\n",
              "      <td>Cafe, South Indian, North Indian, Beverages</td>\n",
              "      <td>1200</td>\n",
              "      <td>Pragati Maidan, New Delhi</td>\n",
              "      <td>4.9</td>\n",
              "      <td>3748</td>\n",
              "      <td>3.9</td>\n",
              "      <td>37</td>\n",
              "      <td>https://www.zomato.com/ncr/cafe-lota-pragati-m...</td>\n",
              "      <td>National Crafts Museum, Gate 2, Bhairon Marg, ...</td>\n",
              "      <td>9.17839E+11</td>\n",
              "      <td>28.613429</td>\n",
              "      <td>77.242471</td>\n",
              "      <td>Pondicherry Fish Curry, Coconut Rabdi, Sabudan...</td>\n",
              "      <td>Artistic Decor, The Service, Natural Ambience,...</td>\n",
              "    </tr>\n",
              "    <tr>\n",
              "      <th>2</th>\n",
              "      <td>Dum-Pukht - ITC Maurya</td>\n",
              "      <td>Mughlai, North Indian, Desserts</td>\n",
              "      <td>5000</td>\n",
              "      <td>ITC Maurya, Chanakyapuri, New Delhi</td>\n",
              "      <td>4.9</td>\n",
              "      <td>1371</td>\n",
              "      <td>NaN</td>\n",
              "      <td>0</td>\n",
              "      <td>https://www.zomato.com/ncr/dum-pukht-itc-maury...</td>\n",
              "      <td>ITC Maurya, Chanakyapuri, New Delhi</td>\n",
              "      <td>9.11146E+11</td>\n",
              "      <td>28.598200</td>\n",
              "      <td>77.173661</td>\n",
              "      <td>Royal ambiance and Mughlai cuisine, also recei...</td>\n",
              "      <td>NaN</td>\n",
              "    </tr>\n",
              "    <tr>\n",
              "      <th>3</th>\n",
              "      <td>Burma Burma</td>\n",
              "      <td>Asian, Burmese, Bubble Tea, Desserts, Salad</td>\n",
              "      <td>1600</td>\n",
              "      <td>Cyber Hub, DLF Cyber City, Gurgaon</td>\n",
              "      <td>4.9</td>\n",
              "      <td>2636</td>\n",
              "      <td>4.4</td>\n",
              "      <td>1238</td>\n",
              "      <td>https://www.zomato.com/ncr/burma-burma-dlf-cyb...</td>\n",
              "      <td>Shop 6, Ground Floor, Building 8, Tower C, Cyb...</td>\n",
              "      <td>9.11244E+11</td>\n",
              "      <td>28.494464</td>\n",
              "      <td>77.088532</td>\n",
              "      <td>Coconut Milk Dessert, Honey Caviar, Kaffir Lim...</td>\n",
              "      <td>Knowledgeable Staff, Authentic, Soothing Ambie...</td>\n",
              "    </tr>\n",
              "    <tr>\n",
              "      <th>4</th>\n",
              "      <td>The Big Chill</td>\n",
              "      <td>Continental, American, Italian</td>\n",
              "      <td>1500</td>\n",
              "      <td>Khan Market, New Delhi</td>\n",
              "      <td>4.9</td>\n",
              "      <td>6487</td>\n",
              "      <td>NaN</td>\n",
              "      <td>0</td>\n",
              "      <td>https://www.zomato.com/ncr/the-big-chill-khan-...</td>\n",
              "      <td>68-A, Khan Market, New Delhi</td>\n",
              "      <td>9.11142E+11</td>\n",
              "      <td>28.600350</td>\n",
              "      <td>77.227493</td>\n",
              "      <td>Irish Cream Tiramisu, Penne Vodka, Mississippi...</td>\n",
              "      <td>Retro Ambience, Yummy Desserts, Big Portions, ...</td>\n",
              "    </tr>\n",
              "    <tr>\n",
              "      <th>...</th>\n",
              "      <td>...</td>\n",
              "      <td>...</td>\n",
              "      <td>...</td>\n",
              "      <td>...</td>\n",
              "      <td>...</td>\n",
              "      <td>...</td>\n",
              "      <td>...</td>\n",
              "      <td>...</td>\n",
              "      <td>...</td>\n",
              "      <td>...</td>\n",
              "      <td>...</td>\n",
              "      <td>...</td>\n",
              "      <td>...</td>\n",
              "      <td>...</td>\n",
              "      <td>...</td>\n",
              "    </tr>\n",
              "    <tr>\n",
              "      <th>1960</th>\n",
              "      <td>Bablu Chic-Inn</td>\n",
              "      <td>Mughlai, North Indian, Chinese, Fast Food</td>\n",
              "      <td>500</td>\n",
              "      <td>Ashok Vihar Phase 3, New Delhi</td>\n",
              "      <td>3.9</td>\n",
              "      <td>183</td>\n",
              "      <td>4.1</td>\n",
              "      <td>545</td>\n",
              "      <td>https://www.zomato.com/ncr/bablu-chic-inn-asho...</td>\n",
              "      <td>Shop 9, Pocket B, DDA Market, Ashok Vihar Phas...</td>\n",
              "      <td>9.2E+11</td>\n",
              "      <td>28.692473</td>\n",
              "      <td>77.178004</td>\n",
              "      <td>Great Recommendations, Tamper Proof Packaging,...</td>\n",
              "      <td>NaN</td>\n",
              "    </tr>\n",
              "    <tr>\n",
              "      <th>1961</th>\n",
              "      <td>Kovilakam</td>\n",
              "      <td>South Indian</td>\n",
              "      <td>350</td>\n",
              "      <td>Dilshad Garden, New Delhi</td>\n",
              "      <td>3.9</td>\n",
              "      <td>114</td>\n",
              "      <td>NaN</td>\n",
              "      <td>1</td>\n",
              "      <td>https://www.zomato.com/ncr/kovilakam-dilshad-g...</td>\n",
              "      <td>F-1, Lower Ground 2, Mrignaini Chowk, Dilshad ...</td>\n",
              "      <td>9.19654E+11</td>\n",
              "      <td>28.684101</td>\n",
              "      <td>77.326725</td>\n",
              "      <td>Kerala Parotta, Roasted Chicken, Chicken Curry...</td>\n",
              "      <td>Lip Smacking Food, Amazing Food, Owner, Good P...</td>\n",
              "    </tr>\n",
              "    <tr>\n",
              "      <th>1962</th>\n",
              "      <td>Krips Restaurant</td>\n",
              "      <td>North Indian, Chinese, Mughlai</td>\n",
              "      <td>900</td>\n",
              "      <td>Basant Lok Market, Vasant Vihar, New Delhi</td>\n",
              "      <td>3.9</td>\n",
              "      <td>316</td>\n",
              "      <td>3.9</td>\n",
              "      <td>2977</td>\n",
              "      <td>https://www.zomato.com/ncr/krips-restaurant-va...</td>\n",
              "      <td>59, Community Centre, Basant Lok Market, Vasan...</td>\n",
              "      <td>9.11141E+11</td>\n",
              "      <td>28.557310</td>\n",
              "      <td>77.163943</td>\n",
              "      <td>Excellent Food, Good Ambience, Courteous Staff...</td>\n",
              "      <td>NaN</td>\n",
              "    </tr>\n",
              "    <tr>\n",
              "      <th>1963</th>\n",
              "      <td>Cafe 147</td>\n",
              "      <td>Cafe, North Indian, Chinese, Kashmiri, Rolls, ...</td>\n",
              "      <td>800</td>\n",
              "      <td>Sainik Farms, New Delhi</td>\n",
              "      <td>3.9</td>\n",
              "      <td>120</td>\n",
              "      <td>3.8</td>\n",
              "      <td>196</td>\n",
              "      <td>https://www.zomato.com/ncr/cafe-147-sainik-far...</td>\n",
              "      <td>Shop A1/7, Ground Floor, Main IGNOU Road, Neb ...</td>\n",
              "      <td>9.19812E+11</td>\n",
              "      <td>28.510338</td>\n",
              "      <td>77.202056</td>\n",
              "      <td>Pool, Live Music, Cafe, Environment, Good Plac...</td>\n",
              "      <td>NaN</td>\n",
              "    </tr>\n",
              "    <tr>\n",
              "      <th>1964</th>\n",
              "      <td>Pizzasia</td>\n",
              "      <td>Pizza, Fast Food, Beverages</td>\n",
              "      <td>500</td>\n",
              "      <td>Gaur City 2, Greater Noida</td>\n",
              "      <td>3.9</td>\n",
              "      <td>165</td>\n",
              "      <td>3.9</td>\n",
              "      <td>5196</td>\n",
              "      <td>https://www.zomato.com/ncr/pizzasia-gaur-city-...</td>\n",
              "      <td>Shop 14, Ground Floor, Bhawishya India Tower, ...</td>\n",
              "      <td>9.18861E+11</td>\n",
              "      <td>28.618250</td>\n",
              "      <td>77.427417</td>\n",
              "      <td>Cordial Staff, Great Recommendations, Mouth Wa...</td>\n",
              "      <td>NaN</td>\n",
              "    </tr>\n",
              "  </tbody>\n",
              "</table>\n",
              "<p>1965 rows × 15 columns</p>\n",
              "</div>\n",
              "    <div class=\"colab-df-buttons\">\n",
              "\n",
              "  <div class=\"colab-df-container\">\n",
              "    <button class=\"colab-df-convert\" onclick=\"convertToInteractive('df-f33f05de-ae81-40b6-9805-828ade8c8447')\"\n",
              "            title=\"Convert this dataframe to an interactive table.\"\n",
              "            style=\"display:none;\">\n",
              "\n",
              "  <svg xmlns=\"http://www.w3.org/2000/svg\" height=\"24px\" viewBox=\"0 -960 960 960\">\n",
              "    <path d=\"M120-120v-720h720v720H120Zm60-500h600v-160H180v160Zm220 220h160v-160H400v160Zm0 220h160v-160H400v160ZM180-400h160v-160H180v160Zm440 0h160v-160H620v160ZM180-180h160v-160H180v160Zm440 0h160v-160H620v160Z\"/>\n",
              "  </svg>\n",
              "    </button>\n",
              "\n",
              "  <style>\n",
              "    .colab-df-container {\n",
              "      display:flex;\n",
              "      gap: 12px;\n",
              "    }\n",
              "\n",
              "    .colab-df-convert {\n",
              "      background-color: #E8F0FE;\n",
              "      border: none;\n",
              "      border-radius: 50%;\n",
              "      cursor: pointer;\n",
              "      display: none;\n",
              "      fill: #1967D2;\n",
              "      height: 32px;\n",
              "      padding: 0 0 0 0;\n",
              "      width: 32px;\n",
              "    }\n",
              "\n",
              "    .colab-df-convert:hover {\n",
              "      background-color: #E2EBFA;\n",
              "      box-shadow: 0px 1px 2px rgba(60, 64, 67, 0.3), 0px 1px 3px 1px rgba(60, 64, 67, 0.15);\n",
              "      fill: #174EA6;\n",
              "    }\n",
              "\n",
              "    .colab-df-buttons div {\n",
              "      margin-bottom: 4px;\n",
              "    }\n",
              "\n",
              "    [theme=dark] .colab-df-convert {\n",
              "      background-color: #3B4455;\n",
              "      fill: #D2E3FC;\n",
              "    }\n",
              "\n",
              "    [theme=dark] .colab-df-convert:hover {\n",
              "      background-color: #434B5C;\n",
              "      box-shadow: 0px 1px 3px 1px rgba(0, 0, 0, 0.15);\n",
              "      filter: drop-shadow(0px 1px 2px rgba(0, 0, 0, 0.3));\n",
              "      fill: #FFFFFF;\n",
              "    }\n",
              "  </style>\n",
              "\n",
              "    <script>\n",
              "      const buttonEl =\n",
              "        document.querySelector('#df-f33f05de-ae81-40b6-9805-828ade8c8447 button.colab-df-convert');\n",
              "      buttonEl.style.display =\n",
              "        google.colab.kernel.accessAllowed ? 'block' : 'none';\n",
              "\n",
              "      async function convertToInteractive(key) {\n",
              "        const element = document.querySelector('#df-f33f05de-ae81-40b6-9805-828ade8c8447');\n",
              "        const dataTable =\n",
              "          await google.colab.kernel.invokeFunction('convertToInteractive',\n",
              "                                                    [key], {});\n",
              "        if (!dataTable) return;\n",
              "\n",
              "        const docLinkHtml = 'Like what you see? Visit the ' +\n",
              "          '<a target=\"_blank\" href=https://colab.research.google.com/notebooks/data_table.ipynb>data table notebook</a>'\n",
              "          + ' to learn more about interactive tables.';\n",
              "        element.innerHTML = '';\n",
              "        dataTable['output_type'] = 'display_data';\n",
              "        await google.colab.output.renderOutput(dataTable, element);\n",
              "        const docLink = document.createElement('div');\n",
              "        docLink.innerHTML = docLinkHtml;\n",
              "        element.appendChild(docLink);\n",
              "      }\n",
              "    </script>\n",
              "  </div>\n",
              "\n",
              "\n",
              "<div id=\"df-3eb8b7f3-a18c-4901-8547-8291f3051418\">\n",
              "  <button class=\"colab-df-quickchart\" onclick=\"quickchart('df-3eb8b7f3-a18c-4901-8547-8291f3051418')\"\n",
              "            title=\"Suggest charts.\"\n",
              "            style=\"display:none;\">\n",
              "\n",
              "<svg xmlns=\"http://www.w3.org/2000/svg\" height=\"24px\"viewBox=\"0 0 24 24\"\n",
              "     width=\"24px\">\n",
              "    <g>\n",
              "        <path d=\"M19 3H5c-1.1 0-2 .9-2 2v14c0 1.1.9 2 2 2h14c1.1 0 2-.9 2-2V5c0-1.1-.9-2-2-2zM9 17H7v-7h2v7zm4 0h-2V7h2v10zm4 0h-2v-4h2v4z\"/>\n",
              "    </g>\n",
              "</svg>\n",
              "  </button>\n",
              "\n",
              "<style>\n",
              "  .colab-df-quickchart {\n",
              "      --bg-color: #E8F0FE;\n",
              "      --fill-color: #1967D2;\n",
              "      --hover-bg-color: #E2EBFA;\n",
              "      --hover-fill-color: #174EA6;\n",
              "      --disabled-fill-color: #AAA;\n",
              "      --disabled-bg-color: #DDD;\n",
              "  }\n",
              "\n",
              "  [theme=dark] .colab-df-quickchart {\n",
              "      --bg-color: #3B4455;\n",
              "      --fill-color: #D2E3FC;\n",
              "      --hover-bg-color: #434B5C;\n",
              "      --hover-fill-color: #FFFFFF;\n",
              "      --disabled-bg-color: #3B4455;\n",
              "      --disabled-fill-color: #666;\n",
              "  }\n",
              "\n",
              "  .colab-df-quickchart {\n",
              "    background-color: var(--bg-color);\n",
              "    border: none;\n",
              "    border-radius: 50%;\n",
              "    cursor: pointer;\n",
              "    display: none;\n",
              "    fill: var(--fill-color);\n",
              "    height: 32px;\n",
              "    padding: 0;\n",
              "    width: 32px;\n",
              "  }\n",
              "\n",
              "  .colab-df-quickchart:hover {\n",
              "    background-color: var(--hover-bg-color);\n",
              "    box-shadow: 0 1px 2px rgba(60, 64, 67, 0.3), 0 1px 3px 1px rgba(60, 64, 67, 0.15);\n",
              "    fill: var(--button-hover-fill-color);\n",
              "  }\n",
              "\n",
              "  .colab-df-quickchart-complete:disabled,\n",
              "  .colab-df-quickchart-complete:disabled:hover {\n",
              "    background-color: var(--disabled-bg-color);\n",
              "    fill: var(--disabled-fill-color);\n",
              "    box-shadow: none;\n",
              "  }\n",
              "\n",
              "  .colab-df-spinner {\n",
              "    border: 2px solid var(--fill-color);\n",
              "    border-color: transparent;\n",
              "    border-bottom-color: var(--fill-color);\n",
              "    animation:\n",
              "      spin 1s steps(1) infinite;\n",
              "  }\n",
              "\n",
              "  @keyframes spin {\n",
              "    0% {\n",
              "      border-color: transparent;\n",
              "      border-bottom-color: var(--fill-color);\n",
              "      border-left-color: var(--fill-color);\n",
              "    }\n",
              "    20% {\n",
              "      border-color: transparent;\n",
              "      border-left-color: var(--fill-color);\n",
              "      border-top-color: var(--fill-color);\n",
              "    }\n",
              "    30% {\n",
              "      border-color: transparent;\n",
              "      border-left-color: var(--fill-color);\n",
              "      border-top-color: var(--fill-color);\n",
              "      border-right-color: var(--fill-color);\n",
              "    }\n",
              "    40% {\n",
              "      border-color: transparent;\n",
              "      border-right-color: var(--fill-color);\n",
              "      border-top-color: var(--fill-color);\n",
              "    }\n",
              "    60% {\n",
              "      border-color: transparent;\n",
              "      border-right-color: var(--fill-color);\n",
              "    }\n",
              "    80% {\n",
              "      border-color: transparent;\n",
              "      border-right-color: var(--fill-color);\n",
              "      border-bottom-color: var(--fill-color);\n",
              "    }\n",
              "    90% {\n",
              "      border-color: transparent;\n",
              "      border-bottom-color: var(--fill-color);\n",
              "    }\n",
              "  }\n",
              "</style>\n",
              "\n",
              "  <script>\n",
              "    async function quickchart(key) {\n",
              "      const quickchartButtonEl =\n",
              "        document.querySelector('#' + key + ' button');\n",
              "      quickchartButtonEl.disabled = true;  // To prevent multiple clicks.\n",
              "      quickchartButtonEl.classList.add('colab-df-spinner');\n",
              "      try {\n",
              "        const charts = await google.colab.kernel.invokeFunction(\n",
              "            'suggestCharts', [key], {});\n",
              "      } catch (error) {\n",
              "        console.error('Error during call to suggestCharts:', error);\n",
              "      }\n",
              "      quickchartButtonEl.classList.remove('colab-df-spinner');\n",
              "      quickchartButtonEl.classList.add('colab-df-quickchart-complete');\n",
              "    }\n",
              "    (() => {\n",
              "      let quickchartButtonEl =\n",
              "        document.querySelector('#df-3eb8b7f3-a18c-4901-8547-8291f3051418 button');\n",
              "      quickchartButtonEl.style.display =\n",
              "        google.colab.kernel.accessAllowed ? 'block' : 'none';\n",
              "    })();\n",
              "  </script>\n",
              "</div>\n",
              "    </div>\n",
              "  </div>\n"
            ]
          },
          "metadata": {},
          "execution_count": 11
        }
      ]
    },
    {
      "cell_type": "markdown",
      "source": [
        "Q1.Are there any null values in the dataset?if yes then fill them.."
      ],
      "metadata": {
        "id": "HtvWYJz-GfqA"
      }
    },
    {
      "cell_type": "code",
      "source": [
        "zomato.isna().sum()"
      ],
      "metadata": {
        "id": "s-on8iKJGhbW",
        "colab": {
          "base_uri": "https://localhost:8080/"
        },
        "outputId": "daf0e0c0-73db-4462-88cc-3dd5a5d08401"
      },
      "execution_count": 11,
      "outputs": [
        {
          "output_type": "execute_result",
          "data": {
            "text/plain": [
              "Restaurant_Name            0\n",
              "Category                   0\n",
              "Pricing_for_2              0\n",
              "Locality                   0\n",
              "Dining_Rating              0\n",
              "Dining_Review_Count        0\n",
              "Delivery_Rating          402\n",
              "Delivery_Rating_Count      0\n",
              "Website                    0\n",
              "Address                    0\n",
              "Phone_No                   0\n",
              "Latitude                   0\n",
              "Longitude                  0\n",
              "Known_For2               405\n",
              "Known_For22              841\n",
              "dtype: int64"
            ]
          },
          "metadata": {},
          "execution_count": 11
        }
      ]
    },
    {
      "cell_type": "code",
      "source": [
        "zomato[\"Delivery_Rating\"]=zomato[\"Delivery_Rating\"].fillna(value=\"4.4\")"
      ],
      "metadata": {
        "id": "i32H-sSpGAu1"
      },
      "execution_count": 79,
      "outputs": []
    },
    {
      "cell_type": "code",
      "source": [
        "zomato[\"Known_For2\"].value_counts()"
      ],
      "metadata": {
        "colab": {
          "base_uri": "https://localhost:8080/"
        },
        "id": "uzW7swJ0VAgH",
        "outputId": "e3f6f82b-485c-462c-b447-b6567f61832d"
      },
      "execution_count": 13,
      "outputs": [
        {
          "output_type": "execute_result",
          "data": {
            "text/plain": [
              "Get a complimentary night, earn up to 50% of spends as points at 250+ restaurants & much more. Know more    15\n",
              "Finger Food, Continental, Mediterranean, Italian, Asian                                                      9\n",
              "Continental, Italian, Fast Food, North Indian, Beverages, Coffee                                             7\n",
              "Chinese, Asian, Continental, North Indian, Beverages                                                         2\n",
              "Butterscotch Pastry, Truffle Pastry, Chocolate Truffle Cake, Pastries, Waffle, Cakes                         2\n",
              "                                                                                                            ..\n",
              "Passion Fruit Ice Tea, Cardamom Tea, Bun Tikki, Earl Grey Tea, Rose Tea, Smoked Chicken Pasta                1\n",
              "Chicken Crostini, Blackberry Mojito, Butter Maggi, Peri Fries, Masala Tea, Hot Coffee                        1\n",
              "Chicken Thai Curry, Iced Lemon Tea, Pizza Alle Verdure, Veggie Delight, Stroganoff, Chicken Shawarama        1\n",
              "Paneer Birbali, Tomato Soup, Butter Chicken, Dal Makhani, Kadhai Paneer, Shahi Paneer                        1\n",
              "Cordial Staff, Great Recommendations, Mouth Watering Food, Reasonable Prices, Quantity, Ambience             1\n",
              "Name: Known_For2, Length: 1530, dtype: int64"
            ]
          },
          "metadata": {},
          "execution_count": 13
        }
      ]
    },
    {
      "cell_type": "code",
      "source": [
        "zomato[\"Known_For2\"]=zomato[\"Known_For2\"].fillna(\"Get a complimentary night, earn up to 50% of spends as points at 250+ restaurants & much more. Know more\")"
      ],
      "metadata": {
        "id": "yOQO-bFAXpEK"
      },
      "execution_count": 14,
      "outputs": []
    },
    {
      "cell_type": "code",
      "source": [
        "zomato[\"Known_For22\"].value_counts()"
      ],
      "metadata": {
        "colab": {
          "base_uri": "https://localhost:8080/"
        },
        "id": "in_9byBrX66m",
        "outputId": "8fbef690-c157-4a5a-fbbf-126f23e673f3"
      },
      "execution_count": 15,
      "outputs": [
        {
          "output_type": "execute_result",
          "data": {
            "text/plain": [
              "Pretty Decor, Perfect Presentation, Tamper Proof Packaging, Worth the Money, Packing, Food Quality                     2\n",
              "Artistic Decor, The Service, Natural Ambience, Fusion Menu, Serene Ambience, Fusion Food                               1\n",
              "Excellent Place, Great Value, Nice Service, Recommended Place, Good Quality Food, Amazing Taste                        1\n",
              "Amazing Food and Experience, Delivery Instructions, Genuine Price, Faster Delivery, Worth the Price, Food Packaging    1\n",
              "Budget Food, Good for Large Groups, Packed on Weekends, Portions, Good Taste, Main Course                              1\n",
              "                                                                                                                      ..\n",
              "Classy Decor, Wonderful Service, Chinese, Server, Excellent Food, Hospitality                                          1\n",
              "Pocket Friendly, Nice Crowd, Great Ambiance, Polite Staff, Prompt Service, Worth the Money                             1\n",
              "Happy Hour Menu, Balcony Area, Affordable Food, Outdoor Sitting, Good Vibe, Helpful Staff                              1\n",
              "Surrounding, Calm, Beautiful Place, Cafe, Owner, Decor                                                                 1\n",
              "Lip Smacking Food, Amazing Food, Owner, Good Place, Good Food, Quality                                                 1\n",
              "Name: Known_For22, Length: 1123, dtype: int64"
            ]
          },
          "metadata": {},
          "execution_count": 15
        }
      ]
    },
    {
      "cell_type": "code",
      "source": [
        "zomato[\"Known_For22\"]=zomato[\"Known_For22\"].fillna(\"Pretty Decor, Perfect Presentation, Tamper Proof Packaging, Worth the Money, Packing, Food Quality\")"
      ],
      "metadata": {
        "id": "ixoVdj2jYWD5"
      },
      "execution_count": 16,
      "outputs": []
    },
    {
      "cell_type": "code",
      "source": [
        "zomato.isna().sum()"
      ],
      "metadata": {
        "colab": {
          "base_uri": "https://localhost:8080/"
        },
        "id": "YIZPCrrCZO4y",
        "outputId": "2d2c5055-4223-48ef-cf94-a77532da3f9e"
      },
      "execution_count": 73,
      "outputs": [
        {
          "output_type": "execute_result",
          "data": {
            "text/plain": [
              "Restaurant_Name          0\n",
              "Category                 0\n",
              "Pricing_for_2            0\n",
              "Locality                 0\n",
              "Dining_Rating            0\n",
              "Dining_Review_Count      0\n",
              "Delivery_Rating          0\n",
              "Delivery_Rating_Count    0\n",
              "Website                  0\n",
              "Address                  0\n",
              "Phone_No                 0\n",
              "Latitude                 0\n",
              "Longitude                0\n",
              "Known_For2               0\n",
              "Known_For22              0\n",
              "dtype: int64"
            ]
          },
          "metadata": {},
          "execution_count": 73
        }
      ]
    },
    {
      "cell_type": "markdown",
      "source": [
        "Q2.Which restaurant is the best one having ratings more than 4.5 for delivery\n"
      ],
      "metadata": {
        "id": "Ws9ZK5OdGiKG"
      }
    },
    {
      "cell_type": "code",
      "source": [
        "zomato[zomato['Delivery_Rating']==4.5]['Restaurant_Name']\n"
      ],
      "metadata": {
        "id": "_lPKhM15bVlD",
        "colab": {
          "base_uri": "https://localhost:8080/"
        },
        "outputId": "24d5142d-481a-4af9-a6f1-746a62ff6cff"
      },
      "execution_count": 81,
      "outputs": [
        {
          "output_type": "execute_result",
          "data": {
            "text/plain": [
              "7                          Natural Ice Cream\n",
              "152     The Haven International Coffee House\n",
              "249                            Sibang Bakery\n",
              "269                                BreadTalk\n",
              "829                                Krua Thai\n",
              "1342                 KAP's Restro Bar & Cafe\n",
              "1445                                Choko La\n",
              "1505                          Twist of Italy\n",
              "Name: Restaurant_Name, dtype: object"
            ]
          },
          "metadata": {},
          "execution_count": 81
        }
      ]
    },
    {
      "cell_type": "markdown",
      "source": [
        "\n",
        "Q3.What type of food is most preffered by the customers?"
      ],
      "metadata": {
        "id": "6zt-dhyBGrkf"
      }
    },
    {
      "cell_type": "code",
      "source": [
        "x=zomato[\"Category\"].value_counts().head()\n",
        "x"
      ],
      "metadata": {
        "id": "BkffosE6Gtza",
        "colab": {
          "base_uri": "https://localhost:8080/"
        },
        "outputId": "d7608b0d-e045-417b-e61e-a148fa9f8a4d"
      },
      "execution_count": 52,
      "outputs": [
        {
          "output_type": "execute_result",
          "data": {
            "text/plain": [
              "North Indian                      88\n",
              "North Indian, Chinese             39\n",
              "North Indian, Mughlai             37\n",
              "Pizza, Fast Food                  19\n",
              "North Indian, Chinese, Mughlai    17\n",
              "Name: Category, dtype: int64"
            ]
          },
          "metadata": {},
          "execution_count": 52
        }
      ]
    },
    {
      "cell_type": "markdown",
      "source": [
        "Q4.How many people prefer delivery rather than dining ?"
      ],
      "metadata": {
        "id": "h3foQEmEGvxQ"
      }
    },
    {
      "cell_type": "code",
      "source": [
        "x=zomato['Delivery_Rating_Count'].sum()\n",
        "y=zomato['Dining_Review_Count'].sum()\n",
        "print(\"these many people prefer delivary=\",x)\n",
        "print(\"these many people prefer dining=\",y)\n",
        "print(\"these many people prefer delivary rahtar than dinning=\",x-y)"
      ],
      "metadata": {
        "id": "1Ph57fW1Gx5m",
        "colab": {
          "base_uri": "https://localhost:8080/"
        },
        "outputId": "dfb1eda9-db51-411a-8d42-d34413aa6533"
      },
      "execution_count": 87,
      "outputs": [
        {
          "output_type": "stream",
          "name": "stdout",
          "text": [
            "these many people prefer delivary= 5953067\n",
            "these many people prefer dining= 1418640\n",
            "these many people prefer delivary rahtar than dinning= 4534427\n"
          ]
        }
      ]
    },
    {
      "cell_type": "markdown",
      "source": [
        "Q5.Which restaurant is the best one having ratings more than 4.5 for dining?"
      ],
      "metadata": {
        "id": "q6oUmSnmGynu"
      }
    },
    {
      "cell_type": "code",
      "source": [
        "zomato[zomato['Dining_Rating']>=4.5]['Restaurant_Name']"
      ],
      "metadata": {
        "id": "VBoWONZkE5-t",
        "colab": {
          "base_uri": "https://localhost:8080/"
        },
        "outputId": "433dc941-a4e8-487a-ce21-8733d23d7d00"
      },
      "execution_count": 58,
      "outputs": [
        {
          "output_type": "execute_result",
          "data": {
            "text/plain": [
              "0                    Rustom's\n",
              "1                   Cafe Lota\n",
              "2      Dum-Pukht - ITC Maurya\n",
              "3                 Burma Burma\n",
              "4               The Big Chill\n",
              "                ...          \n",
              "161        DJ's Pizza & Pasta\n",
              "162          Farmer's Kitchen\n",
              "163                  Ice Pice\n",
              "164                Mad Batter\n",
              "165       Only Bar Restaurant\n",
              "Name: Restaurant_Name, Length: 166, dtype: object"
            ]
          },
          "metadata": {},
          "execution_count": 58
        }
      ]
    },
    {
      "cell_type": "markdown",
      "source": [
        "Q6.Compare different delivery rating counts of different restaurants.\n",
        "Also tell that which restaurants has got the highest rating counts.\n",
        "Do this by creating a barplot"
      ],
      "metadata": {
        "id": "S0xc-qANHHoj"
      }
    },
    {
      "cell_type": "code",
      "source": [
        "a=zomato['Restaurant_Name'].head()\n",
        "plt.figure(figsize=(15,5))\n",
        "sns.barplot(x=a, y='Delivery_Rating_Count', data=zomato)\n",
        "plt.show()\n",
        ""
      ],
      "metadata": {
        "colab": {
          "base_uri": "https://localhost:8080/",
          "height": 325
        },
        "id": "B3kYjVxzF62F",
        "outputId": "0c820973-e56d-4674-cdb6-23e93abc5a82"
      },
      "execution_count": 84,
      "outputs": [
        {
          "output_type": "display_data",
          "data": {
            "text/plain": [
              "<Figure size 1500x500 with 1 Axes>"
            ],
            "image/png": "[encoded data removed]"
          },
          "metadata": {}
        }
      ]
    }
  ]
}